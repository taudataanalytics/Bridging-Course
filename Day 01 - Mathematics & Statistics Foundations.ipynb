{
 "cells": [
  {
   "cell_type": "markdown",
   "id": "99afeca2-711c-4b0d-a98b-578bdf39f66e",
   "metadata": {},
   "source": [
    "# <center><font color=\"blue\"> Day 1 Agenda: Mathematics & Statistics Foundations </font></center>\n",
    "<center><img alt=\"\" src=\"images/Matrikulasi-DS-UIII.png\" style=\"height: 200px;\"/></center> \n",
    "\n",
    "## 09:00 – 09:30 | Orientation\n",
    "- **Objective**: Introduce the program, clarify expectations, and assess baseline knowledge.\n",
    "\n",
    "## 09:30 – 10:45 | Linear Algebra Refresher\n",
    "- **Content**: Vectors, matrices, dot product, transpose, inverse, and eigenvalues.\n",
    "- **Objective**: Refresh key linear algebra operations used in machine learning.\n",
    "\n",
    "## 10:45 – 12:00 | Probability Basics\n",
    "- **Content**: Random variables, distributions, expectation, variance, and Bayes’ theorem.\n",
    "- **Objective**: Understand probabilistic reasoning in data science.\n",
    "\n",
    "## 12:00 – 13:00 | Lunch & Prayer Break\n",
    "\n",
    "## 13:00 – 14:15 | Descriptive Statistics & Visualization\n",
    "- **Content**: Mean, median, variance, and data visualization using `matplotlib`/`seaborn`.\n",
    "- **Objective**: Learn to summarize data using key descriptive metrics.\n",
    "\n",
    "## 14:15 – 15:30 | Inferential Statistics\n",
    "- **Content**: Confidence intervals, hypothesis testing, and p-values.\n",
    "- **Objective**: Apply inferential statistics within a research context.\n",
    "\n",
    "## 15:30 – 16:30 | Wrap-up & Q/A\n",
    "- **Activity**: Session recap, group discussion, and a short quiz.\n",
    "- **Notes**: A \"Key Takeaways\" slide with a formula cheatsheet should be provided."
   ]
  },
  {
   "cell_type": "markdown",
   "id": "9c3e23cb-2afa-4646-931b-671ecacc6581",
   "metadata": {},
   "source": [
    "# <center><font color=\"blue\"> Mathematical Thinking</font></center>\n",
    "\n",
    "1. Represent data using vectors and matrices.\n",
    "2. Perform key matrix operations such as dot products and transposes.\n",
    "3. Understand the geometric meaning behind these operations.\n",
    "4. Compute inverses and eigenvalues for matrix transformations.\n",
    "5. Connect linear algebra intuition to statistical and machine learning applications.\n",
    "\n",
    "<center><img alt=\"\" src=\"images/Mathematical-Thinking.png\" style=\"height: 400px;\"/></center> "
   ]
  },
  {
   "cell_type": "markdown",
   "id": "8d6f937c-0bc6-4c1d-9afb-9db216068a5a",
   "metadata": {},
   "source": [
    "## Vectors — Foundations of Data Representation\n",
    "\n",
    "A **vector** represents a quantity that has both magnitude and direction.\n",
    "\n",
    "In data science:\n",
    "- Each observation can be seen as a vector of features.\n",
    "- Vectors represent points in *n*-dimensional feature space.\n",
    "\n",
    "Mathematically, a vector can be written as:\n",
    "\n",
    "$\n",
    "\\mathbf{v} =\n",
    "\\begin{bmatrix}\n",
    "v_1 \\\\\n",
    "v_2 \\\\\n",
    "\\vdots \\\\\n",
    "v_n\n",
    "\\end{bmatrix}\n",
    "$\n",
    "\n",
    "The **length** (or Euclidean norm) of a vector is:\n",
    "\n",
    "$\n",
    "\\|\\mathbf{v}\\| = \\sqrt{v_1^2 + v_2^2 + \\cdots + v_n^2}\n",
    "$\n"
   ]
  },
  {
   "cell_type": "code",
   "execution_count": 10,
   "id": "98257f8b-9778-483d-a63e-7c4f62b210fa",
   "metadata": {},
   "outputs": [
    {
     "name": "stdout",
     "output_type": "stream",
     "text": [
      "Vector v: [ 3  4 12]\n",
      "Magnitude of v: 13.0\n"
     ]
    }
   ],
   "source": [
    "# Define a simple 3D vector\n",
    "v = np.array([3, 4, 12])\n",
    "\n",
    "# Compute its magnitude (Euclidean norm)\n",
    "magnitude = np.linalg.norm(v)\n",
    "\n",
    "print(\"Vector v:\", v)\n",
    "print(\"Magnitude of v:\", magnitude)"
   ]
  },
  {
   "cell_type": "markdown",
   "id": "2c43ce6f-9860-490c-8f86-abc969ad8563",
   "metadata": {},
   "source": [
    "### Statistical and Machine Learning Context\n",
    "In machine learning, vectors represent:\n",
    "- **Feature vectors**: e.g., `[height, weight, age]`\n",
    "- **Weight vectors**: parameters in linear regression or neural networks.\n",
    "- **Gradient vectors**: directions of steepest change in optimization.\n",
    "\n",
    "Understanding their magnitude and direction is essential for interpreting:\n",
    "- **Similarity (cosine distance)**\n",
    "- **Regularization (L2 norm penalty)**"
   ]
  },
  {
   "cell_type": "markdown",
   "id": "ddb21c13-2c08-46a8-b399-95692723e2de",
   "metadata": {},
   "source": [
    "### <center><font color=\"green\"> Discussion: </font></center>\n",
    "\n",
    "* Is an array the same as a list in Python?\n",
    "* What does an array represent in Data Science?\n",
    "* Where do we encounter this concept of a norm in Machine Learning or AI?\n",
    "* Why do we need to use norms?"
   ]
  },
  {
   "cell_type": "markdown",
   "id": "47a9b62f-c411-4466-ba55-2b1bc7020e54",
   "metadata": {},
   "source": [
    "## Matrices — Transformations and Data Structures\n",
    "\n",
    "A **matrix** is a rectangular array of numbers, representing:\n",
    "- Multiple vectors (rows or columns),\n",
    "\n",
    "$ A = \\begin{bmatrix} a_{11} & a_{12} & a_{13} \\\\ a_{21} & a_{22} & a_{23} \\end{bmatrix} $\n",
    "\n",
    "In data science:\n",
    "- Each **row** often corresponds to an observation.\n",
    "- Each **column** corresponds to a feature.\n"
   ]
  },
  {
   "cell_type": "code",
   "execution_count": 11,
   "id": "8a42b5a6-0fb2-47ba-9ae5-080e5a9e0a31",
   "metadata": {},
   "outputs": [
    {
     "name": "stdout",
     "output_type": "stream",
     "text": [
      "Matrix A:\n",
      " [[1 2 3]\n",
      " [4 5 6]]\n",
      "Shape of A: (2, 3)\n"
     ]
    }
   ],
   "source": [
    "# Define a matrix\n",
    "A = np.array([[1, 2, 3],\n",
    "              [4, 5, 6]])\n",
    "\n",
    "print(\"Matrix A:\\n\", A)\n",
    "\n",
    "# Matrix shape: (rows, columns)\n",
    "print(\"Shape of A:\", A.shape)"
   ]
  },
  {
   "cell_type": "markdown",
   "id": "a7cb9a44-42aa-4755-850a-ef954bda3a1f",
   "metadata": {},
   "source": [
    "### Example: Data Representation\n",
    "Imagine you have two students and their test scores in three subjects:\n",
    "| Student | Math | Stats | Python |\n",
    "|----------|-------|--------|---------|\n",
    "| A | 1 | 2 | 3 |\n",
    "| B | 4 | 5 | 6 |\n",
    "\n",
    "This data can be represented as matrix $A$.\n",
    "- Columns = Features  \n",
    "- Rows = Observations"
   ]
  },
  {
   "cell_type": "markdown",
   "id": "3641fa7f-13a4-451c-b095-b124e0094e23",
   "metadata": {},
   "source": [
    "### <center><font color=\"green\"> Discussion: </font></center>\n",
    "\n",
    "* Are there any other ways to represent a matrix in Python?\n",
    "* How many dimensions can a matrix have?\n",
    "* What special types of matrices do you know?"
   ]
  },
  {
   "cell_type": "markdown",
   "id": "019b45a6-3bcf-4ccf-adc1-8d03735589b0",
   "metadata": {},
   "source": [
    "## Dot Product — Similarity and Projection\n",
    "\n",
    "The **dot product** between two vectors $ \\mathbf{a} $ and $ \\mathbf{b} $ is:\n",
    "\n",
    "$ \\mathbf{a} \\cdot \\mathbf{b} = \\sum_i a_i b_i = \\|\\mathbf{a}\\| \\|\\mathbf{b}\\| \\cos(\\theta) $\n",
    "\n",
    "Geometric meaning:\n",
    "- Measures how similar or aligned two vectors are.\n",
    "- Used in cosine similarity, projections, and linear regression.\n"
   ]
  },
  {
   "cell_type": "code",
   "execution_count": 12,
   "id": "97e43f39-0fa6-47e9-b81a-b3621f9aacdb",
   "metadata": {},
   "outputs": [
    {
     "name": "stdout",
     "output_type": "stream",
     "text": [
      "a · b = 32\n",
      "Cosine similarity = 0.9746318461970762\n"
     ]
    }
   ],
   "source": [
    "a = np.array([1, 2, 3])\n",
    "b = np.array([4, 5, 6])\n",
    "\n",
    "dot_product = np.dot(a, b)\n",
    "\n",
    "print(\"a · b =\", dot_product)\n",
    "print(\"Cosine similarity =\", dot_product / (np.linalg.norm(a)*np.linalg.norm(b)))"
   ]
  },
  {
   "cell_type": "markdown",
   "id": "421a9bce-903f-4dbb-a168-6cf7a8bb29e8",
   "metadata": {},
   "source": [
    "### Statistical View:\n",
    "- **Dot product** is a measure of *covariation* (before normalization). imagine $a$ and $b$ as distances between each data in a vector and its mean.\n",
    "- In regression, predictions are computed as $ y = X \\cdot w $, a dot product between features and weights."
   ]
  },
  {
   "cell_type": "markdown",
   "id": "45578b08-b22d-4b12-a372-a417eddb65b1",
   "metadata": {},
   "source": [
    "### <center><font color=\"green\"> Discussion: </font></center>\n",
    "\n",
    "* Where else in Data Science or AI do we encounter X · w (X dot w)?\n",
    "* Is cosine similarity the same as a distance?\n",
    "* If one of the vectors has a missing value, can we still calculate similarity or distance?"
   ]
  },
  {
   "cell_type": "markdown",
   "id": "d1590b0f-711e-4740-8cc8-8c8bfdc75457",
   "metadata": {},
   "source": [
    "## Transpose — Switching Perspectives\n",
    "\n",
    "The **transpose** of a matrix $A$ flips its rows and columns.\n",
    "\n",
    "$ A^T_{ij} = A_{ji} $\n",
    "\n",
    "- Used to align dimensions for matrix multiplication.\n",
    "- Appears naturally in covariance computation $ X^T X $.\n"
   ]
  },
  {
   "cell_type": "code",
   "execution_count": 13,
   "id": "9430a42f-aa36-41b3-b7a5-2ee639c39189",
   "metadata": {},
   "outputs": [
    {
     "name": "stdout",
     "output_type": "stream",
     "text": [
      "A Transposed:\n",
      " [[1 4]\n",
      " [2 5]\n",
      " [3 6]]\n"
     ]
    }
   ],
   "source": [
    "A_T = A.T\n",
    "\n",
    "print(\"A Transposed:\\n\", A_T)"
   ]
  },
  {
   "cell_type": "markdown",
   "id": "bae54212-3f3a-4bca-bc20-b33e3320425d",
   "metadata": {},
   "source": [
    "### Statistical Interpretation:\n",
    "If $ X $ is your data matrix (rows = samples, columns = features):\n",
    "\n",
    "$ \\text{Covariance Matrix} = \\frac{1}{n-1} X^T X $\n",
    "\n",
    "Thus, transpose operations link directly to statistical measures of relationships among features.\n"
   ]
  },
  {
   "cell_type": "markdown",
   "id": "75dd4716-8b78-456d-be3d-73a5b1748d0b",
   "metadata": {},
   "source": [
    "### <center><font color=\"green\"> Discussion: </font></center>\n",
    "\n",
    "* Do you know any other uses of the matrix transpose?"
   ]
  },
  {
   "cell_type": "markdown",
   "id": "8dc6c459-4338-4c6f-bb59-fb2d594021cf",
   "metadata": {},
   "source": [
    "## Matrix Inverse — Undoing Transformations\n",
    "\n",
    "The **inverse** of a square matrix $A$ (if it exists) is a matrix $A^{-1}$ such that:\n",
    "\n",
    "$ A A^{-1} = I $\n",
    "\n",
    "In machine learning, inverses are used in **analytical solutions** like **Ordinary Least Squares (OLS)** regression:\n",
    "\n",
    "$ \\hat{\\beta} = (X^T X)^{-1} X^T y $\n"
   ]
  },
  {
   "cell_type": "code",
   "execution_count": 14,
   "id": "e7b834cd-02b9-4e6b-8e02-ebf340febb83",
   "metadata": {},
   "outputs": [
    {
     "name": "stdout",
     "output_type": "stream",
     "text": [
      "Matrix B:\n",
      " [[4 7]\n",
      " [2 6]]\n",
      "Inverse of B:\n",
      " [[ 0.6 -0.7]\n",
      " [-0.2  0.4]]\n",
      "Verification (B * B_inv):\n",
      " [[1. 0.]\n",
      " [0. 1.]]\n"
     ]
    }
   ],
   "source": [
    "# Define an invertible square matrix\n",
    "B = np.array([[4, 7],\n",
    "              [2, 6]])\n",
    "\n",
    "B_inv = np.linalg.inv(B)\n",
    "\n",
    "print(\"Matrix B:\\n\", B)\n",
    "print(\"Inverse of B:\\n\", B_inv)\n",
    "\n",
    "# Verify: B * B_inv = Identity\n",
    "print(\"Verification (B * B_inv):\\n\", np.dot(B, B_inv))"
   ]
  },
  {
   "cell_type": "markdown",
   "id": "b966d684-1ba4-4457-8732-0600b4974f79",
   "metadata": {},
   "source": [
    "### Statistical and ML Connection:\n",
    "Matrix inverses appear in:\n",
    "- Solving linear systems (Ax = b)\n",
    "- Computing regression coefficients\n",
    "- Covariance matrix inversion (used in multivariate Gaussian models)\n",
    "\n",
    "In practice, we rarely compute inverses directly — instead we use **decomposition methods** (LU, QR, SVD) for numerical stability.\n"
   ]
  },
  {
   "cell_type": "markdown",
   "id": "80b2f753-d1ee-4d44-bf23-87efd73e3328",
   "metadata": {},
   "source": [
    "### <center><font color=\"green\"> Discussion: </font></center>\n",
    "\n",
    "* Can you name any other examples in Data Science, Machine Learning, or AI where a matrix inverse is used?\n",
    "* What are the requirements for a matrix to have an inverse?\n",
    "* Can you relate your previous answer to applications in Data Science?"
   ]
  },
  {
   "cell_type": "markdown",
   "id": "ee64dc95-0927-4915-889b-04568d7d7842",
   "metadata": {},
   "source": [
    "## Eigenvalues and Eigenvectors — Understanding Transformations\n",
    "\n",
    "For a square matrix $A$:\n",
    "\n",
    "$ A \\mathbf{v} = \\lambda \\mathbf{v} $\n",
    "\n",
    "Where:\n",
    "- $ \\mathbf{v} $: Eigenvector  \n",
    "- $ \\lambda $: Eigenvalue  \n",
    "\n",
    "Interpretation:\n",
    "- The matrix $A$ *stretches* or *compresses* the vector $ \\mathbf{v} $ by factor $ \\lambda $.\n"
   ]
  },
  {
   "cell_type": "code",
   "execution_count": 15,
   "id": "c64983a6-b67a-48fc-b511-c18d3fc31012",
   "metadata": {},
   "outputs": [
    {
     "name": "stdout",
     "output_type": "stream",
     "text": [
      "Eigenvalues: [2. 3.]\n",
      "Eigenvectors:\n",
      " [[1. 0.]\n",
      " [0. 1.]]\n"
     ]
    }
   ],
   "source": [
    "# Example matrix\n",
    "C = np.array([[2, 0],\n",
    "              [0, 3]])\n",
    "\n",
    "# Compute eigenvalues and eigenvectors\n",
    "eig_vals, eig_vecs = np.linalg.eig(C)\n",
    "\n",
    "print(\"Eigenvalues:\", eig_vals)\n",
    "print(\"Eigenvectors:\\n\", eig_vecs)\n"
   ]
  },
  {
   "cell_type": "markdown",
   "id": "b99da68e-2940-440f-a191-bb54574d025f",
   "metadata": {},
   "source": [
    "### Interpretation:\n",
    "In machine learning:\n",
    "- Eigenvalues show the amount of variance captured in each direction.\n",
    "- Used in **PCA (Principal Component Analysis)**:\n",
    "  - We decompose covariance matrix into eigenvalues and eigenvectors.\n",
    "  - Eigenvectors = principal directions.\n",
    "  - Eigenvalues = explained variance.\n",
    "\n",
    "Thus, **linear algebra bridges raw data and latent structure discovery**.\n",
    "\n",
    "* Recommended youtube PlayList: https://www.youtube.com/watch?v=fNk_zzaMoSs&list=PLZHQObOWTQDPD3MizzM2xVFitgF8hE_ab"
   ]
  },
  {
   "cell_type": "markdown",
   "id": "40cf1034-8bd0-4bc5-ba68-f5f6423a8f49",
   "metadata": {},
   "source": [
    "### <center><font color=\"green\"> Discussion: </font></center>\n",
    "\n",
    "* Do you know any real-world applications of eigenvectors or eigenvalues in Data Science?"
   ]
  },
  {
   "cell_type": "markdown",
   "id": "0b1cf10a-a70f-4c8c-b11a-4a6dcb6d72fa",
   "metadata": {},
   "source": [
    "## Summary\n",
    "\n",
    "| Concept | Mathematical Role | Machine Learning Connection |\n",
    "|----------|-------------------|-----------------------------|\n",
    "| **Vectors** | Represent features, samples | Feature vectors, weights, gradients |\n",
    "| **Matrices** | Combine or transform vectors | Data tables, linear transformations |\n",
    "| **Dot Product** | Measures alignment | Similarity, regression predictions |\n",
    "| **Transpose** | Reorient data | Covariance, feature relationships |\n",
    "| **Inverse** | Reverses transformations | Linear regression, optimization |\n",
    "| **Eigenvalues/Vectors** | Capture direction & variance | PCA, dimensionality reduction |\n",
    "\n",
    "---\n",
    "\n",
    "> “Linear algebra is the language in which data talks to machine learning.”  \n",
    "> — Adapted from Andrew Ng\n"
   ]
  },
  {
   "cell_type": "markdown",
   "id": "b265d50c-42db-4327-9847-04d791fe38ca",
   "metadata": {},
   "source": [
    "# <center><font color=\"green\"> 10 Minutes Break</font></center>"
   ]
  },
  {
   "cell_type": "markdown",
   "id": "5ec1d880-c8d7-4d9f-a81b-b3e0061852a6",
   "metadata": {},
   "source": [
    "# <center><font color=\"blue\"> Statistical Thinking</font></center>\n",
    "\n",
    "Cultivating a statistical mindset:\n",
    "* Always question the data. Ask where the data came from, how it was collected, and what potential biases might exist.\n",
    "* Think in terms of ranges and probabilities, not just single numbers. Instead of asking \"What is the exact number?\", ask \"What is the likely range of outcomes?\".\n",
    "* Look for patterns and relationships in data. Use graphs and visualizations to explore data before jumping to conclusions.\n",
    "* Understand that correlation does not equal causation. Just because two things happen at the same time doesn't mean one caused the other.\n",
    "* Embrace uncertainty. Acknowledge that you will rarely have all the information and that conclusions are often tentative and subject to revision with new data.\n",
    "\n",
    "<center><img alt=\"\" src=\"images/Statistical-Thinking.png\" style=\"height: 400px;\"/></center> "
   ]
  },
  {
   "cell_type": "markdown",
   "id": "54899097-59c0-45ff-96ff-349bfe54b350",
   "metadata": {},
   "source": [
    "## Outline 2nd Section:\n",
    "\n",
    "1. Distinguish between deterministic and stochastic (random) systems.\n",
    "2. Describe and simulate random variables and their distributions.\n",
    "3. Compute and interpret expectation and variance.\n",
    "4. Apply Bayes’ theorem in reasoning under uncertainty.\n",
    "5. Relate probability to statistical inference and predictive modeling."
   ]
  },
  {
   "cell_type": "markdown",
   "id": "5b95a9b6-7d14-4f9f-9820-dc9b020e1646",
   "metadata": {},
   "source": [
    "## Random Variables — Modeling Uncertainty\n",
    "\n",
    "A **random variable (RV)** is a variable whose possible values are outcomes of a random process.\n",
    "\n",
    "- **Discrete RV**: takes countable outcomes (e.g., coin toss, number of clicks).\n",
    "- **Continuous RV**: takes values over a continuous range (e.g., height, temperature).\n",
    "\n",
    "Notation:\n",
    "- $X$ denotes the random variable.\n",
    "- $x$ denotes a specific realization of $X$."
   ]
  },
  {
   "cell_type": "markdown",
   "id": "e3c9ce5f-27cc-4f3b-9bb8-1c45e8546f0a",
   "metadata": {},
   "source": [
    "### Random variables allow us to quantify uncertainty mathematically.\n",
    "\n",
    "In data science, random variables appear in:\n",
    "- Feature noise and measurement errors.\n",
    "- Model outputs as probability estimates.\n",
    "- Simulation of stochastic processes (e.g., Monte Carlo).\n",
    "\n",
    "A core idea: *Data are realizations of underlying random variables.*"
   ]
  },
  {
   "cell_type": "code",
   "execution_count": 23,
   "id": "4e428c78-c75d-4e81-b452-cb2797d6f25d",
   "metadata": {},
   "outputs": [
    {
     "data": {
      "image/png": "[encoded data removed]",
      "text/plain": [
       "<Figure size 640x480 with 1 Axes>"
      ]
     },
     "metadata": {},
     "output_type": "display_data"
    }
   ],
   "source": [
    "# Simulate a discrete random variable: dice roll\n",
    "np.random.seed(42)\n",
    "dice_rolls = np.random.randint(1, 7, size=30)\n",
    "\n",
    "# Visualize empirical distribution\n",
    "plt.hist(dice_rolls, bins=np.arange(0.5, 7.5, 1), density=True, edgecolor='black')\n",
    "plt.title(\"Empirical Distribution of Dice Rolls\")\n",
    "plt.xlabel(\"Outcome\")\n",
    "plt.ylabel(\"Probability\")\n",
    "plt.show()"
   ]
  },
  {
   "cell_type": "code",
   "execution_count": 25,
   "id": "084326fb-8e69-4a64-bfe6-2b9a1912321e",
   "metadata": {},
   "outputs": [
    {
     "data": {
      "text/plain": [
       "array([4, 5, 3, 5, 5, 2, 3, 3, 3, 5, 4, 3, 6, 5, 2, 4, 6, 6, 2, 4, 5, 1,\n",
       "       4, 2, 6, 5, 4, 1, 1, 3])"
      ]
     },
     "execution_count": 25,
     "metadata": {},
     "output_type": "execute_result"
    }
   ],
   "source": [
    "dice_rolls"
   ]
  },
  {
   "cell_type": "markdown",
   "id": "0fb8fecb-e2e4-4b3f-8db0-5158d37e5c16",
   "metadata": {},
   "source": [
    "### <center><font color=\"green\"> Discussion: </font></center>\n",
    "\n",
    "* What happens if we increase the number of experiments?\n",
    "* How is this related to the concept of (modern) probability?\n",
    "* Should we predict non-random variables in Data Science? Why or why not?\n",
    "* What is the difference between probabilistic and stochastic?"
   ]
  },
  {
   "cell_type": "markdown",
   "id": "002d4788-d88e-4497-940a-ead8a34b5950",
   "metadata": {},
   "source": [
    "## Probability Distributions — Describing Randomness\n",
    "\n",
    "A **probability distribution** assigns probabilities to outcomes of a random variable.\n",
    "\n",
    "For discrete $X$:\n",
    "$ P(X = x_i) \\ge 0 $ and $ \\sum_i P(X = x_i) = 1 $ where $P(x)$ is the **probability mass function (pmf)**\n",
    "\n",
    "For continuous $X$:\n",
    "$ P(a \\le X \\le b) = \\int_a^b f(x)\\,dx $ where $ f(x) $ is the **probability density function (pdf)**.\n"
   ]
  },
  {
   "cell_type": "code",
   "execution_count": 27,
   "id": "8c7968cc-01b2-4bae-abd0-d89ad9b7ebe8",
   "metadata": {},
   "outputs": [
    {
     "data": {
      "image/png": "[encoded data removed]",
      "text/plain": [
       "<Figure size 640x480 with 1 Axes>"
      ]
     },
     "metadata": {},
     "output_type": "display_data"
    }
   ],
   "source": [
    "from scipy.stats import binom, norm\n",
    "\n",
    "# Example 1: Discrete - Binomial(n=10, p=0.5)\n",
    "x = np.arange(0, 11)\n",
    "pmf = binom.pmf(x, n=10, p=0.5)\n",
    "\n",
    "plt.stem(x, pmf)\n",
    "plt.title(\"Binomial Distribution (n=10, p=0.5)\")\n",
    "plt.xlabel(\"x\")\n",
    "plt.ylabel(\"P(X=x)\")\n",
    "plt.show()"
   ]
  },
  {
   "cell_type": "code",
   "execution_count": 28,
   "id": "03c33060-1cbe-4778-a2e9-2556afad1e0c",
   "metadata": {},
   "outputs": [
    {
     "data": {
      "image/png": "[encoded data removed]",
      "text/plain": [
       "<Figure size 640x480 with 1 Axes>"
      ]
     },
     "metadata": {},
     "output_type": "display_data"
    }
   ],
   "source": [
    "# Example 2: Continuous - Normal(mu=0, sigma=1)\n",
    "x = np.linspace(-4, 4, 200)\n",
    "pdf = norm.pdf(x, 0, 1)\n",
    "\n",
    "plt.plot(x, pdf)\n",
    "plt.title(\"Normal Distribution (μ=0, σ=1)\")\n",
    "plt.xlabel(\"x\")\n",
    "plt.ylabel(\"Density\")\n",
    "plt.show()"
   ]
  },
  {
   "cell_type": "markdown",
   "id": "da1e23fe-5afa-4691-8d4a-5f164d9628d8",
   "metadata": {},
   "source": [
    "- **Binomial** models binary events (e.g., number of successes).\n",
    "\n",
    "<center><img alt=\"\" src=\"images/Binomial-Distribution-Formula-and-Applications.png\" style=\"height: 400px;\"/></center> \n",
    "\n",
    "- **Normal** models continuous outcomes (central limit theorem).\n",
    "<center><img alt=\"\" src=\"images/normal-pdf.png\" style=\"height: 200px;\"/></center> \n",
    "\n",
    "In machine learning:\n",
    "- Many models assume Gaussian noise (e.g., Linear Regression).\n",
    "- Classification probabilities often follow discrete distributions.\n"
   ]
  },
  {
   "cell_type": "markdown",
   "id": "225e5605-e1d2-44e4-a00c-4ce894b5dd41",
   "metadata": {},
   "source": [
    "## Probability Distributions (PMF & PDF)\n",
    "\n",
    "<center><img alt=\"\" src=\"images/probability-distributions.jpg\" style=\"height: 600px;\"/></center> "
   ]
  },
  {
   "cell_type": "markdown",
   "id": "5d81e7cb-20e4-45b5-ab66-4169dd68797d",
   "metadata": {},
   "source": [
    "### <center><font color=\"green\"> Discussion: </font></center>\n",
    "\n",
    "* Why do we need probability distributions in Data Science? (**This is a very important question**)\n",
    "* How can we determine which probability distribution function a random variable follows?"
   ]
  },
  {
   "cell_type": "markdown",
   "id": "55369237-74bf-4340-8789-23e90f6b4946",
   "metadata": {},
   "source": [
    "## Expectation — The Long-Run Average\n",
    "\n",
    "The **expected value (mean)** of a random variable $X$ represents its \"center of gravity\":\n",
    "\n",
    "For discrete $X$:\n",
    "$ E[X] = \\sum_i x_i P(X = x_i) $\n",
    "\n",
    "For continuous $X$:\n",
    "$ E[X] = \\int_{-\\infty}^{\\infty} x f(x)\\,dx $\n",
    "\n",
    "Expectation links probability theory with statistics — it’s the theoretical average we estimate from data.\n"
   ]
  },
  {
   "cell_type": "code",
   "execution_count": 29,
   "id": "654a9259-0c77-47a8-95ba-a266c8651ef2",
   "metadata": {},
   "outputs": [
    {
     "name": "stdout",
     "output_type": "stream",
     "text": [
      "Expected value of a fair die: 3.5\n"
     ]
    }
   ],
   "source": [
    "# Example: Expected value of a fair die\n",
    "x = np.arange(1, 7)\n",
    "p = np.repeat(1/6, 6)\n",
    "expected_value = np.sum(x * p)\n",
    "\n",
    "print(\"Expected value of a fair die:\", expected_value)"
   ]
  },
  {
   "cell_type": "code",
   "execution_count": 31,
   "id": "07c2725d-d16b-4165-8e85-b35ab7ab5be2",
   "metadata": {},
   "outputs": [
    {
     "name": "stdout",
     "output_type": "stream",
     "text": [
      "[1 2 3 4 5 6]\n"
     ]
    },
    {
     "data": {
      "text/plain": [
       "array([0.16666667, 0.16666667, 0.16666667, 0.16666667, 0.16666667,\n",
       "       0.16666667])"
      ]
     },
     "execution_count": 31,
     "metadata": {},
     "output_type": "execute_result"
    }
   ],
   "source": [
    "print(x)\n",
    "p"
   ]
  },
  {
   "cell_type": "markdown",
   "id": "3f4b2f4a-5370-42df-bee8-5735a0eb8fb8",
   "metadata": {},
   "source": [
    "### Statistical Thinking:\n",
    "In practice, we estimate expectations from data samples:\n",
    "$ \\hat{E}[X] = \\frac{1}{n}\\sum_{i=1}^{n} x_i $\n",
    "\n",
    "Expectation connects directly to:\n",
    "- **Mean** in statistics.\n",
    "- **Cost functions** in ML (e.g., expected loss).\n",
    "- **Integration** in probabilistic models.\n"
   ]
  },
  {
   "cell_type": "code",
   "execution_count": 32,
   "id": "2164de97-9888-4973-93ef-1a27331114b2",
   "metadata": {},
   "outputs": [
    {
     "name": "stdout",
     "output_type": "stream",
     "text": [
      "Monte Carlo estimated mean: 3.4991\n"
     ]
    }
   ],
   "source": [
    "# Monte Carlo simulation to estimate E[X]\n",
    "samples = np.random.randint(1, 7, 10000)\n",
    "estimated_mean = np.mean(samples)\n",
    "\n",
    "print(\"Monte Carlo estimated mean:\", estimated_mean)\n"
   ]
  },
  {
   "cell_type": "markdown",
   "id": "ca2bf10c-9928-4366-a420-9b69d23c418e",
   "metadata": {},
   "source": [
    "## Variance — Measuring Uncertainty\n",
    "\n",
    "Variance quantifies the **spread** of a random variable around its expectation.\n",
    "\n",
    "$ Var(X) = E[(X - E[X])^2] $\n",
    "\n",
    "and standard deviation is $ \\sigma = \\sqrt{Var(X)} $.\n",
    "\n",
    "A small variance means the values are concentrated; large variance means they’re spread out.\n"
   ]
  },
  {
   "cell_type": "code",
   "execution_count": 33,
   "id": "fcbc7a15-f7eb-466d-855c-ed93d5ba947c",
   "metadata": {},
   "outputs": [
    {
     "name": "stdout",
     "output_type": "stream",
     "text": [
      "True variance: 2.9166666666666665\n",
      "Empirical variance: 2.92179919\n"
     ]
    }
   ],
   "source": [
    "# Analytical variance of a fair die\n",
    "true_var = np.sum(((x - expected_value)**2) * p)\n",
    "\n",
    "# Empirical variance from simulation\n",
    "empirical_var = np.var(samples)\n",
    "\n",
    "print(\"True variance:\", true_var)\n",
    "print(\"Empirical variance:\", empirical_var)\n"
   ]
  },
  {
   "cell_type": "markdown",
   "id": "a9790e86-5326-4d35-8017-26e9311005d1",
   "metadata": {},
   "source": [
    "### Statistical Interpretation:\n",
    "Variance underlies:\n",
    "- **Risk** in finance,\n",
    "- **Uncertainty quantification** in probabilistic models,\n",
    "- **Regularization** (reducing variance to prevent overfitting).\n",
    "\n",
    "Bias:\n",
    "bias refers to the tendency of a model to consistently learn the wrong thing by failing to capture the true underlying relationship between features and the target variable. It's a systematic error that causes the model's predictions to deviate from the true values.\n",
    "\n",
    "In ML, balancing *bias and variance* is key to model generalization.\n",
    "<center><img alt=\"\" src=\"images/bias-variance.jpg\" style=\"height: 400px;\"/></center> \n"
   ]
  },
  {
   "cell_type": "markdown",
   "id": "4bf600be-9efd-4d4c-add2-03a8c07199dc",
   "metadata": {},
   "source": [
    "## Bayes’ Theorem — Reasoning Under Uncertainty\n",
    "\n",
    "Bayes’ theorem updates our belief in a hypothesis given new evidence.\n",
    "\n",
    "$ P(H|D) = \\frac{P(D|H) P(H)}{P(D)} $\n",
    "\n",
    "where:\n",
    "- $H$: hypothesis,\n",
    "- $D$: data,\n",
    "- $P(H)$: prior belief,\n",
    "- $P(D|H)$: likelihood,\n",
    "- $P(H|D)$: posterior belief.\n",
    "\n",
    "It’s the backbone of **Bayesian inference** and probabilistic modeling.\n"
   ]
  },
  {
   "cell_type": "code",
   "execution_count": 34,
   "id": "52fac9b3-e225-4965-a90b-c09227c86c02",
   "metadata": {},
   "outputs": [
    {
     "name": "stdout",
     "output_type": "stream",
     "text": [
      "Posterior Probability of Disease given Positive Test: 0.167\n"
     ]
    }
   ],
   "source": [
    "# Example: Disease testing problem\n",
    "# P(Disease) = 0.01, P(Pos|Disease)=0.99, P(Pos|NoDisease)=0.05\n",
    "\n",
    "P_D = 0.01\n",
    "P_pos_given_D = 0.99\n",
    "P_pos_given_notD = 0.05\n",
    "P_notD = 1 - P_D\n",
    "\n",
    "# Compute posterior\n",
    "P_pos = P_pos_given_D * P_D + P_pos_given_notD * P_notD\n",
    "P_D_given_pos = (P_pos_given_D * P_D) / P_pos\n",
    "\n",
    "print(f\"Posterior Probability of Disease given Positive Test: {P_D_given_pos:.3f}\")"
   ]
  },
  {
   "cell_type": "markdown",
   "id": "f130eab9-a79d-4f7f-b92b-41c2792d2f79",
   "metadata": {},
   "source": [
    "Even with accurate tests, false positives are common if the prior (disease rate) is small.\n",
    "\n",
    "Bayesian reasoning helps:\n",
    "- Combine prior knowledge with new data.\n",
    "- Quantify uncertainty in model predictions.\n",
    "- Build adaptive models (e.g., Bayesian regression, Naive Bayes classifier)."
   ]
  },
  {
   "cell_type": "markdown",
   "id": "ea746dd3-ee37-408a-b74d-51a3fb16dff1",
   "metadata": {},
   "source": [
    "### *Reminder*\n",
    "\n",
    "<center><img alt=\"\" src=\"images/faslse-true-error.png\" style=\"height: 400px;\"/></center> "
   ]
  },
  {
   "cell_type": "markdown",
   "id": "70a8882c-39c0-43b1-9ff4-1fecff8a843a",
   "metadata": {},
   "source": [
    "## Summary\n",
    "\n",
    "| Concept | Mathematical Definition | Data Science Relevance |\n",
    "|----------|--------------------------|-------------------------|\n",
    "| **Random Variable** | Maps outcomes to numbers | Models uncertainty |\n",
    "| **Distribution** | Describes probabilities | Models behavior of data |\n",
    "| **Expectation** | Weighted mean | Predictive average / cost |\n",
    "| **Variance** | Spread around mean | Measures risk and stability |\n",
    "| **Bayes’ Theorem** | Updates beliefs | Foundation of probabilistic learning |\n",
    "\n",
    "---\n",
    "\n",
    "> “Probability theory is common sense reduced to calculation.” — Pierre-Simon Laplace"
   ]
  }
 ],
 "metadata": {
  "kernelspec": {
   "display_name": "Python 3 (ipykernel)",
   "language": "python",
   "name": "python3"
  },
  "language_info": {
   "codemirror_mode": {
    "name": "ipython",
    "version": 3
   },
   "file_extension": ".py",
   "mimetype": "text/x-python",
   "name": "python",
   "nbconvert_exporter": "python",
   "pygments_lexer": "ipython3",
   "version": "3.10.15"
  }
 },
 "nbformat": 4,
 "nbformat_minor": 5
}
