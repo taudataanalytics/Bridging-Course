{
 "cells": [
  {
   "cell_type": "markdown",
   "id": "99afeca2-711c-4b0d-a98b-578bdf39f66e",
   "metadata": {},
   "source": [
    "# <center><font color=\"blue\"> Day 1 Agenda: Mathematics & Statistics Foundations </font></center>\n",
    "<center><img alt=\"\" src=\"images/Matrikulasi-DS-UIII.png\" style=\"height: 200px;\"/></center> \n",
    "\n",
    "## 09:00 – 09:30 | Orientation & Pre-Test\n",
    "- **Objective**: Introduce the program, clarify expectations, and assess baseline knowledge.\n",
    "\n",
    "## 09:30 – 10:45 | Linear Algebra Refresher\n",
    "- **Content**: Vectors, matrices, dot product, transpose, inverse, and eigenvalues.\n",
    "- **Objective**: Refresh key linear algebra operations used in machine learning.\n",
    "\n",
    "## 10:45 – 12:00 | Probability Basics\n",
    "- **Content**: Random variables, distributions, expectation, variance, and Bayes’ theorem.\n",
    "- **Objective**: Understand probabilistic reasoning in data science.\n",
    "\n",
    "## 12:00 – 13:00 | Lunch & Prayer Break\n",
    "\n",
    "## 13:00 – 14:15 | Descriptive Statistics & Visualization\n",
    "- **Content**: Mean, median, variance, and data visualization using `matplotlib`/`seaborn`.\n",
    "- **Objective**: Learn to summarize data using key descriptive metrics.\n",
    "\n",
    "## 14:15 – 15:30 | Inferential Statistics\n",
    "- **Content**: Confidence intervals, hypothesis testing, and p-values.\n",
    "- **Objective**: Apply inferential statistics within a research context.\n",
    "\n",
    "## 15:30 – 16:30 | Wrap-up & Q/A\n",
    "- **Activity**: Session recap, group discussion, and a short quiz.\n",
    "- **Notes**: A \"Key Takeaways\" slide with a formula cheatsheet should be provided."
   ]
  },
  {
   "cell_type": "code",
   "execution_count": null,
   "id": "ff449a88-292d-479a-ba3f-fe2b0bbd6939",
   "metadata": {},
   "outputs": [],
   "source": []
  },
  {
   "cell_type": "code",
   "execution_count": null,
   "id": "2768289b-c352-4310-a440-42aeb76d2800",
   "metadata": {},
   "outputs": [],
   "source": []
  },
  {
   "cell_type": "code",
   "execution_count": 1,
   "id": "07a845d5-2955-49a9-83e6-ebe9dcca40ae",
   "metadata": {},
   "outputs": [
    {
     "name": "stdout",
     "output_type": "stream",
     "text": [
      "Running the code locally, please make sure all the python module versions agree with colab environment and all data/assets downloaded\n"
     ]
    }
   ],
   "source": [
    "import warnings; warnings.simplefilter('ignore')\n",
    "try:\n",
    "    import google.colab\n",
    "    IN_COLAB = True\n",
    "    !mkdir data models images logs\n",
    "    #!wget -P data/ https://raw.githubusercontent.com/taudataanalytics/Bridging-Course/master/data/....csv\n",
    "    #!pip install ... --q\n",
    "except:\n",
    "    IN_COLAB = False\n",
    "    print(\"Running the code locally, please make sure all the python module versions agree with colab environment and all data/assets downloaded\")"
   ]
  },
  {
   "cell_type": "code",
   "execution_count": 2,
   "id": "fa3c2022-9d1c-4aec-9a52-623f942f4b27",
   "metadata": {},
   "outputs": [
    {
     "data": {
      "text/plain": [
       "'Done'"
      ]
     },
     "execution_count": 2,
     "metadata": {},
     "output_type": "execute_result"
    }
   ],
   "source": [
    "import numpy as np, pandas as pd, seaborn as sns\n",
    "import matplotlib, matplotlib.pyplot as plt\n",
    "\n",
    "seed = 42\n",
    "np.random.seed(seed)\n",
    "\"Done\""
   ]
  },
  {
   "cell_type": "code",
   "execution_count": null,
   "id": "db4799bb-28d8-427f-93fa-b95d99a622f8",
   "metadata": {},
   "outputs": [],
   "source": []
  }
 ],
 "metadata": {
  "kernelspec": {
   "display_name": "Python 3 (ipykernel)",
   "language": "python",
   "name": "python3"
  },
  "language_info": {
   "codemirror_mode": {
    "name": "ipython",
    "version": 3
   },
   "file_extension": ".py",
   "mimetype": "text/x-python",
   "name": "python",
   "nbconvert_exporter": "python",
   "pygments_lexer": "ipython3",
   "version": "3.10.15"
  }
 },
 "nbformat": 4,
 "nbformat_minor": 5
}
